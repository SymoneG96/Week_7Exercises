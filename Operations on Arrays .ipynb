{
 "cells": [
  {
   "cell_type": "code",
   "execution_count": 1,
   "id": "ccfc5eff-7247-4a39-b325-e6c54e273f78",
   "metadata": {},
   "outputs": [],
   "source": [
    "import numpy as np"
   ]
  },
  {
   "cell_type": "markdown",
   "id": "5125f3f0-5ebf-4102-a751-c69374874b1b",
   "metadata": {},
   "source": [
    "# Sample Arrays"
   ]
  },
  {
   "cell_type": "code",
   "execution_count": 2,
   "id": "82484019-78c6-4abb-a8ad-be4af2a693b0",
   "metadata": {},
   "outputs": [
    {
     "name": "stdout",
     "output_type": "stream",
     "text": [
      "[ 3 10]\n",
      "[[15 12]]\n",
      "[[0.88186088]\n",
      " [0.62404395]]\n",
      "[[88 63 99 32 21]\n",
      " [83 95 91 92 96]\n",
      " [42 86 65 87 45]\n",
      " [45 86 85 34 44]]\n",
      "[[0.26148054 0.10967254 0.08575175 0.48305651 0.86505895]\n",
      " [0.1924794  0.40846701 0.69925804 0.05137919 0.59640166]\n",
      " [0.90716202 0.54047263 0.2350462  0.91795546 0.46668714]\n",
      " [0.47561361 0.79198861 0.21870297 0.29867121 0.10063603]]\n"
     ]
    }
   ],
   "source": [
    "# Create a variable named r_1 that contains a random set of integers between 1 and 20 with a size of 2 elements. Print r_1.\n",
    "r_1 = np.random.randint(1, 21, size=2)\n",
    "print(r_1)\n",
    "\n",
    "# Create a variable named r_2 that contains a random set of integers between 1 and 20 with a size of 1 row, 2 columns. Print r_2.\n",
    "r_2 = np.random.randint(1, 21, size=(1, 2))\n",
    "print(r_2)\n",
    "\n",
    "# Create a variable named r_3 that contains a random set of floats between 0 and 1 with a size of 2 rows, 1 column. Print r_3.\n",
    "r_3 = np.random.rand(2, 1)\n",
    "print(r_3)\n",
    "\n",
    "# Create a variable named r_4 that contains a random set of integers between 20 and 100 with a size of 4 rows, 5 columns. Print r_4.\n",
    "r_4 = np.random.randint(20, 101, size=(4, 5))\n",
    "print(r_4)\n",
    "\n",
    "# Create a variable named r_5 that contains a random set of floats between 0 and 1 with a size of 4 rows, 5 columns. Print r_5.\n",
    "r_5 = np.random.rand(4, 5)\n",
    "print(r_5)"
   ]
  },
  {
   "cell_type": "markdown",
   "id": "4b86c4f5-568a-4b5f-936a-77c5c59a58d6",
   "metadata": {},
   "source": [
    "# Permutations"
   ]
  },
  {
   "cell_type": "code",
   "execution_count": 3,
   "id": "014cbaf1-1573-4fbc-b2cb-511122a5daa9",
   "metadata": {},
   "outputs": [
    {
     "name": "stdout",
     "output_type": "stream",
     "text": [
      "[[88 63 99 32 21]\n",
      " [83 95 91 92 96]\n",
      " [42 86 65 87 45]\n",
      " [45 86 85 34 44]]\n"
     ]
    }
   ],
   "source": [
    "print(r_4)"
   ]
  },
  {
   "cell_type": "code",
   "execution_count": 4,
   "id": "09d5f83f-e772-4a14-80d9-e3e83d49fda4",
   "metadata": {},
   "outputs": [
    {
     "name": "stdout",
     "output_type": "stream",
     "text": [
      "[[83 95 91 92 96]\n",
      " [45 86 85 34 44]\n",
      " [42 86 65 87 45]\n",
      " [88 63 99 32 21]]\n"
     ]
    }
   ],
   "source": [
    "np.random.shuffle(r_4)\n",
    "print(r_4)"
   ]
  },
  {
   "cell_type": "markdown",
   "id": "ae98e6df-dc2b-493f-95f5-17990c4208c3",
   "metadata": {},
   "source": [
    "The output shows that np.random.shuffle(r_4) shuffled the rows of the array. The values within each row remained the same, but the order of the rows themselves was randomized.\n",
    "Rows [72 76 31 42 74], [64 78 38 38 57], [64 71 21 99 21], and [75 28 55 38 100] are present in both the original and shuffled arrays. The only difference is their order within the array."
   ]
  },
  {
   "cell_type": "code",
   "execution_count": 5,
   "id": "644fff31-8b25-46e8-a474-7fcc297d3846",
   "metadata": {},
   "outputs": [
    {
     "name": "stdout",
     "output_type": "stream",
     "text": [
      "[[83 95 91 92 96]\n",
      " [42 86 65 87 45]\n",
      " [88 63 99 32 21]\n",
      " [45 86 85 34 44]]\n",
      "[[83 95 91 92 96]\n",
      " [45 86 85 34 44]\n",
      " [42 86 65 87 45]\n",
      " [88 63 99 32 21]]\n"
     ]
    }
   ],
   "source": [
    "new_shuffle = np.random.permutation(r_4)\n",
    "print(new_shuffle)\n",
    "print(r_4)"
   ]
  },
  {
   "cell_type": "markdown",
   "id": "3b2dda91-e53c-4786-b0ad-031ec38152f2",
   "metadata": {},
   "source": [
    "I would use shuffle to randomly reorder elements within the original array itself.\n",
    "I would use permutation to create a new array with randomly reordered elements, keeping the original array intact."
   ]
  },
  {
   "cell_type": "markdown",
   "id": "e8866350-2259-4823-9aba-7d860c813c56",
   "metadata": {},
   "source": [
    "# Mathematical Operations"
   ]
  },
  {
   "cell_type": "code",
   "execution_count": 6,
   "id": "4182c4d6-13c6-428c-b12d-e0d11ec05785",
   "metadata": {},
   "outputs": [
    {
     "name": "stdout",
     "output_type": "stream",
     "text": [
      "r_1: [ 3 10]\n",
      "r_2: [[15 12]]\n",
      "Shape of r_1: (2,)\n",
      "Shape of r_2: (1, 2)\n",
      "Result of r_1 plus r_2: [[18 22]]\n",
      "Shape of the result: (1, 2)\n"
     ]
    }
   ],
   "source": [
    "# Printing r_1 and r_2 as starting values\n",
    "print(\"r_1:\", r_1)\n",
    "print(\"r_2:\", r_2)\n",
    "\n",
    "# Printing the shape of each array\n",
    "print(\"Shape of r_1:\", r_1.shape)\n",
    "print(\"Shape of r_2:\", r_2.shape)\n",
    "\n",
    "# Calculating r_1 plus r_2 using the add function\n",
    "result = np.add(r_1, r_2)\n",
    "\n",
    "# Printing the result and its shape\n",
    "print(\"Result of r_1 plus r_2:\", result)\n",
    "print(\"Shape of the result:\", result.shape)"
   ]
  },
  {
   "cell_type": "code",
   "execution_count": 7,
   "id": "c67e598c-84cc-4651-9de8-5db2134b9b0a",
   "metadata": {},
   "outputs": [
    {
     "name": "stdout",
     "output_type": "stream",
     "text": [
      "r_1: [ 3 10]\n",
      "r_3: [[0.88186088]\n",
      " [0.62404395]]\n",
      "Shape of r_1: (2,)\n",
      "Shape of r_3: (2, 1)\n",
      "Result of r_1 plus r_3: [[ 3.88186088 10.88186088]\n",
      " [ 3.62404395 10.62404395]]\n",
      "Shape of the result: (2, 2)\n"
     ]
    }
   ],
   "source": [
    "# Printing r_1 and r_3 as starting values\n",
    "print(\"r_1:\", r_1)\n",
    "print(\"r_3:\", r_3)\n",
    "\n",
    "# Printing the shape of each array\n",
    "print(\"Shape of r_1:\", r_1.shape)\n",
    "print(\"Shape of r_3:\", r_3.shape)\n",
    "\n",
    "# Calculating r_1 plus r_3 using the add function\n",
    "result = np.add(r_1, r_3)\n",
    "\n",
    "# Printing the result and its shape\n",
    "print(\"Result of r_1 plus r_3:\", result)\n",
    "print(\"Shape of the result:\", result.shape)"
   ]
  },
  {
   "cell_type": "code",
   "execution_count": 8,
   "id": "a5f292c9-8564-411f-a885-7e17dda8e2ea",
   "metadata": {},
   "outputs": [
    {
     "name": "stdout",
     "output_type": "stream",
     "text": [
      "r_2: [[15 12]]\n",
      "r_4: [[83 95 91 92 96]\n",
      " [45 86 85 34 44]\n",
      " [42 86 65 87 45]\n",
      " [88 63 99 32 21]]\n",
      "Shape of r_2: (1, 2)\n",
      "Shape of r_4: (4, 5)\n"
     ]
    },
    {
     "ename": "ValueError",
     "evalue": "operands could not be broadcast together with shapes (1,2) (4,5) ",
     "output_type": "error",
     "traceback": [
      "\u001b[1;31m---------------------------------------------------------------------------\u001b[0m",
      "\u001b[1;31mValueError\u001b[0m                                Traceback (most recent call last)",
      "Cell \u001b[1;32mIn[8], line 10\u001b[0m\n\u001b[0;32m      7\u001b[0m \u001b[38;5;28mprint\u001b[39m(\u001b[38;5;124m\"\u001b[39m\u001b[38;5;124mShape of r_4:\u001b[39m\u001b[38;5;124m\"\u001b[39m, r_4\u001b[38;5;241m.\u001b[39mshape)\n\u001b[0;32m      9\u001b[0m \u001b[38;5;66;03m# Calculate r_2 plus r_4 using the add function\u001b[39;00m\n\u001b[1;32m---> 10\u001b[0m result \u001b[38;5;241m=\u001b[39m \u001b[43mnp\u001b[49m\u001b[38;5;241;43m.\u001b[39;49m\u001b[43madd\u001b[49m\u001b[43m(\u001b[49m\u001b[43mr_2\u001b[49m\u001b[43m,\u001b[49m\u001b[43m \u001b[49m\u001b[43mr_4\u001b[49m\u001b[43m)\u001b[49m\n\u001b[0;32m     12\u001b[0m \u001b[38;5;66;03m# Print the result and its shape\u001b[39;00m\n\u001b[0;32m     13\u001b[0m \u001b[38;5;28mprint\u001b[39m(\u001b[38;5;124m\"\u001b[39m\u001b[38;5;124mResult of r_2 plus r_4:\u001b[39m\u001b[38;5;124m\"\u001b[39m, result)\n",
      "\u001b[1;31mValueError\u001b[0m: operands could not be broadcast together with shapes (1,2) (4,5) "
     ]
    }
   ],
   "source": [
    "# Print r_2 and r_4 as starting values\n",
    "print(\"r_2:\", r_2)\n",
    "print(\"r_4:\", r_4)\n",
    "\n",
    "# Print the shape of each array\n",
    "print(\"Shape of r_2:\", r_2.shape)\n",
    "print(\"Shape of r_4:\", r_4.shape)\n",
    "\n",
    "# Calculate r_2 plus r_4 using the add function\n",
    "result = np.add(r_2, r_4)\n",
    "\n",
    "# Print the result and its shape\n",
    "print(\"Result of r_2 plus r_4:\", result)\n",
    "print(\"Shape of the result:\", result.shape)"
   ]
  },
  {
   "cell_type": "code",
   "execution_count": 9,
   "id": "85e02671-f156-48ef-81f7-0d840d223684",
   "metadata": {},
   "outputs": [
    {
     "ename": "ValueError",
     "evalue": "operands could not be broadcast together with shapes (2,) (4,5) ",
     "output_type": "error",
     "traceback": [
      "\u001b[1;31m---------------------------------------------------------------------------\u001b[0m",
      "\u001b[1;31mValueError\u001b[0m                                Traceback (most recent call last)",
      "Cell \u001b[1;32mIn[9], line 1\u001b[0m\n\u001b[1;32m----> 1\u001b[0m result \u001b[38;5;241m=\u001b[39m \u001b[43mnp\u001b[49m\u001b[38;5;241;43m.\u001b[39;49m\u001b[43madd\u001b[49m\u001b[43m(\u001b[49m\u001b[43mr_1\u001b[49m\u001b[43m,\u001b[49m\u001b[43m \u001b[49m\u001b[43mr_4\u001b[49m\u001b[43m)\u001b[49m\n\u001b[0;32m      3\u001b[0m \u001b[38;5;66;03m# This raised a ValueError because the shapes of r_1 and r_4 are incompatible. r_1 has shape (2,), while r_4 has shape (4, 5). NumPy requires arrays to have the same shape for element-wise addition.\u001b[39;00m\n",
      "\u001b[1;31mValueError\u001b[0m: operands could not be broadcast together with shapes (2,) (4,5) "
     ]
    }
   ],
   "source": [
    "result = np.add(r_1, r_4)\n",
    "\n",
    "# This raised a ValueError because the shapes of r_1 and r_4 are incompatible. r_1 has shape (2,), while r_4 has shape (4, 5). NumPy requires arrays to have the same shape for element-wise addition."
   ]
  },
  {
   "cell_type": "code",
   "execution_count": 12,
   "id": "8ce3f49d-ad3c-4e83-926c-788bc3579c5f",
   "metadata": {},
   "outputs": [
    {
     "name": "stdout",
     "output_type": "stream",
     "text": [
      "[[ 84  96  92  93  97]\n",
      " [ 46  87  86  35  45]\n",
      " [ 43  87  66  88  46]\n",
      " [ 89  64 100  33  22]]\n"
     ]
    }
   ],
   "source": [
    "result = np.add(np.array([1]), r_4)\n",
    "print(result)"
   ]
  },
  {
   "cell_type": "code",
   "execution_count": 13,
   "id": "b18f3f0f-9873-4056-9801-b8d868513455",
   "metadata": {},
   "outputs": [
    {
     "name": "stdout",
     "output_type": "stream",
     "text": [
      "[[ 84  96  92  93  97]\n",
      " [ 46  87  86  35  45]\n",
      " [ 43  87  66  88  46]\n",
      " [ 89  64 100  33  22]]\n"
     ]
    }
   ],
   "source": [
    "result = np.add(np.array([[1]]), r_4)\n",
    "print(result)"
   ]
  },
  {
   "cell_type": "code",
   "execution_count": 14,
   "id": "4fdb276d-f064-4c7d-a5cd-1538d3f3f109",
   "metadata": {},
   "outputs": [
    {
     "name": "stdout",
     "output_type": "stream",
     "text": [
      "[[ 84  96  92  93  97]\n",
      " [ 46  87  86  35  45]\n",
      " [ 43  87  66  88  46]\n",
      " [ 89  64 100  33  22]]\n"
     ]
    }
   ],
   "source": [
    "result = np.add(np.array([1, 1, 1, 1, 1]), r_4)\n",
    "print(result)"
   ]
  },
  {
   "cell_type": "code",
   "execution_count": 15,
   "id": "b22aa8a3-7864-40d6-af59-cf7a3aa208f3",
   "metadata": {},
   "outputs": [
    {
     "ename": "ValueError",
     "evalue": "operands could not be broadcast together with shapes (2,1) (4,5) ",
     "output_type": "error",
     "traceback": [
      "\u001b[1;31m---------------------------------------------------------------------------\u001b[0m",
      "\u001b[1;31mValueError\u001b[0m                                Traceback (most recent call last)",
      "Cell \u001b[1;32mIn[15], line 2\u001b[0m\n\u001b[0;32m      1\u001b[0m \u001b[38;5;66;03m#This raised a ValueError because the shapes of the arrays are incompatible.\u001b[39;00m\n\u001b[1;32m----> 2\u001b[0m result \u001b[38;5;241m=\u001b[39m \u001b[43mnp\u001b[49m\u001b[38;5;241;43m.\u001b[39;49m\u001b[43madd\u001b[49m\u001b[43m(\u001b[49m\u001b[43mnp\u001b[49m\u001b[38;5;241;43m.\u001b[39;49m\u001b[43marray\u001b[49m\u001b[43m(\u001b[49m\u001b[43m[\u001b[49m\u001b[43m[\u001b[49m\u001b[38;5;241;43m1\u001b[39;49m\u001b[43m]\u001b[49m\u001b[43m,\u001b[49m\u001b[43m \u001b[49m\u001b[43m[\u001b[49m\u001b[38;5;241;43m1\u001b[39;49m\u001b[43m]\u001b[49m\u001b[43m]\u001b[49m\u001b[43m)\u001b[49m\u001b[43m,\u001b[49m\u001b[43m \u001b[49m\u001b[43mr_4\u001b[49m\u001b[43m)\u001b[49m\n\u001b[0;32m      4\u001b[0m \u001b[38;5;66;03m# Error message:\u001b[39;00m\n\u001b[0;32m      5\u001b[0m \u001b[38;5;66;03m# ValueError: operands could not be broadcast together with shapes (2,1) (4,5)\u001b[39;00m\n",
      "\u001b[1;31mValueError\u001b[0m: operands could not be broadcast together with shapes (2,1) (4,5) "
     ]
    }
   ],
   "source": [
    "#This raised a ValueError because the shapes of the arrays are incompatible.\n",
    "result = np.add(np.array([[1], [1]]), r_4)\n",
    "\n",
    "# Error message:\n",
    "# ValueError: operands could not be broadcast together with shapes (2,1) (4,5)"
   ]
  },
  {
   "cell_type": "markdown",
   "id": "c7ae6839-16b3-4a81-936b-3de917f36019",
   "metadata": {},
   "source": [
    "Broadcasting is like stretching a smaller array to match the dimensions of a larger one, allowing element-wise operations between arrays of different shapes.\n",
    "\n",
    "With the add function, each element in the stretched array is added to its corresponding element in the larger array.\n",
    "\n",
    "The final array's shape depends on how the smaller array was stretched to match the larger one. If the dimensions can't be aligned, an error message is returned."
   ]
  },
  {
   "cell_type": "markdown",
   "id": "5dbcbcdf-cc0c-47af-9cc6-c61e94c77ab6",
   "metadata": {},
   "source": [
    "# Rounding"
   ]
  },
  {
   "cell_type": "code",
   "execution_count": 18,
   "id": "ffc4d692-530c-46e2-9f46-f201bccf4a27",
   "metadata": {},
   "outputs": [
    {
     "name": "stdout",
     "output_type": "stream",
     "text": [
      "[[0.88186088]\n",
      " [0.62404395]]\n"
     ]
    }
   ],
   "source": [
    "print(r_3)"
   ]
  },
  {
   "cell_type": "code",
   "execution_count": 19,
   "id": "6e4bc393-88ef-4901-9ef8-122803db87b0",
   "metadata": {},
   "outputs": [
    {
     "name": "stdout",
     "output_type": "stream",
     "text": [
      "[[0.]\n",
      " [0.]]\n"
     ]
    }
   ],
   "source": [
    "# Rounding the values in r_3 using trunc\n",
    "rounded_r3 = np.trunc(r_3)\n",
    "\n",
    "# Printing the rounded array\n",
    "print(rounded_r3)"
   ]
  },
  {
   "cell_type": "code",
   "execution_count": 20,
   "id": "23d98a80-d787-4c1e-871e-2cb3a1d313d5",
   "metadata": {},
   "outputs": [
    {
     "name": "stdout",
     "output_type": "stream",
     "text": [
      "[[0.]\n",
      " [0.]]\n"
     ]
    }
   ],
   "source": [
    "# Rounding the values in r_3 using fix\n",
    "rounded_r3 = np.fix(r_3)\n",
    "\n",
    "# Printing the rounded array\n",
    "print(rounded_r3)"
   ]
  },
  {
   "cell_type": "code",
   "execution_count": 21,
   "id": "68328ef1-7fd6-4cce-a378-45ce1ebac1b2",
   "metadata": {},
   "outputs": [
    {
     "name": "stdout",
     "output_type": "stream",
     "text": [
      "[[0.]\n",
      " [0.]]\n"
     ]
    }
   ],
   "source": [
    "# Rounding the values in r_3 using floor\n",
    "rounded_r3 = np.floor(r_3)\n",
    "\n",
    "# Printing the rounded array\n",
    "print(rounded_r3)"
   ]
  },
  {
   "cell_type": "code",
   "execution_count": 22,
   "id": "b08fa471-64cc-4d63-8586-368f2bdc5376",
   "metadata": {},
   "outputs": [
    {
     "name": "stdout",
     "output_type": "stream",
     "text": [
      "[[1.]\n",
      " [1.]]\n"
     ]
    }
   ],
   "source": [
    "# Rounding the values in r_3 using ceil\n",
    "rounded_r3 = np.ceil(r_3)\n",
    "\n",
    "# Printing the rounded array\n",
    "print(rounded_r3)"
   ]
  },
  {
   "cell_type": "code",
   "execution_count": 23,
   "id": "331f7a77-ee3e-46d8-93a4-d346742cfdbd",
   "metadata": {},
   "outputs": [
    {
     "name": "stdout",
     "output_type": "stream",
     "text": [
      "[[0.88]\n",
      " [0.62]]\n"
     ]
    }
   ],
   "source": [
    "# Rounding the values in r_3 using round to 2 decimal places\n",
    "rounded_r3 = np.round(r_3, 2)\n",
    "\n",
    "# Printing the rounded array\n",
    "print(rounded_r3)"
   ]
  },
  {
   "cell_type": "markdown",
   "id": "17b88a69-470d-4cf0-bdda-f089ddb061cc",
   "metadata": {},
   "source": [
    "#  Cumulative Operations"
   ]
  },
  {
   "cell_type": "code",
   "execution_count": 24,
   "id": "36ddcbab-9117-4fd0-98c1-f410f1074d83",
   "metadata": {},
   "outputs": [
    {
     "name": "stdout",
     "output_type": "stream",
     "text": [
      "[[83 95 91 92 96]\n",
      " [45 86 85 34 44]\n",
      " [42 86 65 87 45]\n",
      " [88 63 99 32 21]]\n"
     ]
    }
   ],
   "source": [
    "print(r_4)"
   ]
  },
  {
   "cell_type": "code",
   "execution_count": 25,
   "id": "46471917-5bb1-43a6-a5e8-31b979754488",
   "metadata": {},
   "outputs": [
    {
     "name": "stdout",
     "output_type": "stream",
     "text": [
      "Sum of all values in r_4: 1379\n"
     ]
    }
   ],
   "source": [
    "# Printing the sum of all values in r_4\n",
    "print(\"Sum of all values in r_4:\", np.sum(r_4))"
   ]
  },
  {
   "cell_type": "code",
   "execution_count": 26,
   "id": "c7815fce-05f6-4d6d-aacc-03711126d3b6",
   "metadata": {},
   "outputs": [
    {
     "name": "stdout",
     "output_type": "stream",
     "text": [
      "Sum of elements along the 0 axis for r_4: [258 330 340 245 206]\n"
     ]
    }
   ],
   "source": [
    "# Printing the sum of elements along the 0 axis for r_4\n",
    "print(\"Sum of elements along the 0 axis for r_4:\", np.sum(r_4, axis=0))"
   ]
  },
  {
   "cell_type": "code",
   "execution_count": 27,
   "id": "d99a495e-84d0-4763-b360-97f406ddf571",
   "metadata": {},
   "outputs": [
    {
     "name": "stdout",
     "output_type": "stream",
     "text": [
      "Sum of elements along the 1 axis for r_4: [457 294 325 303]\n"
     ]
    }
   ],
   "source": [
    "# Printing the sum of elements along the 1 axis for r_4\n",
    "print(\"Sum of elements along the 1 axis for r_4:\", np.sum(r_4, axis=1))\n"
   ]
  },
  {
   "cell_type": "code",
   "execution_count": 28,
   "id": "912e7309-9bd4-4f81-8092-05bcad0cc0f9",
   "metadata": {},
   "outputs": [
    {
     "name": "stdout",
     "output_type": "stream",
     "text": [
      "Cumulative sum of values in r_4: [  83  178  269  361  457  502  588  673  707  751  793  879  944 1031\n",
      " 1076 1164 1227 1326 1358 1379]\n"
     ]
    }
   ],
   "source": [
    "# Printing the cumulative sum (rolling total) of values in r_4\n",
    "print(\"Cumulative sum of values in r_4:\", np.cumsum(r_4))"
   ]
  },
  {
   "cell_type": "code",
   "execution_count": 29,
   "id": "1a402e12-1ebd-4bc2-b455-405df1549b92",
   "metadata": {},
   "outputs": [
    {
     "name": "stdout",
     "output_type": "stream",
     "text": [
      "Cumulative sum of values along the 0 axis for r_4: [[ 83  95  91  92  96]\n",
      " [128 181 176 126 140]\n",
      " [170 267 241 213 185]\n",
      " [258 330 340 245 206]]\n"
     ]
    }
   ],
   "source": [
    "# Printing the cumulative sum (rolling total) of values along the 0 axis for r_4\n",
    "print(\"Cumulative sum of values along the 0 axis for r_4:\", np.cumsum(r_4, axis=0))"
   ]
  },
  {
   "cell_type": "markdown",
   "id": "3b2e172f-29aa-4192-8b8b-05b73d8b38de",
   "metadata": {},
   "source": [
    "# Grocery Problem"
   ]
  },
  {
   "cell_type": "code",
   "execution_count": 31,
   "id": "697f05c6-032f-477d-83c6-a3d3fbbf553f",
   "metadata": {},
   "outputs": [
    {
     "name": "stdout",
     "output_type": "stream",
     "text": [
      "Bag 1: [['Gala Apples' 'Blueberries' 'Cutie Oranges' 'Spinach' 'Brussel Sprouts'\n",
      "  'Goldfish' 'Lays Potato Chips' 'Chips Ahoy']]\n",
      "Bag 2: [['Broccoli' 'Green Beans' 'Carrots' 'Celery' 'Pepsi' 'Gatorade'\n",
      "  'Cheez-Its']]\n"
     ]
    }
   ],
   "source": [
    "# Creating bag1 and bag2 arrays with specific food types and brands\n",
    "bag1 = np.array([['Gala Apples', 'Blueberries', 'Cutie Oranges','Spinach', 'Brussel Sprouts', 'Goldfish', 'Lays Potato Chips', 'Chips Ahoy']])\n",
    "bag2 = np.array([['Broccoli', 'Green Beans', 'Carrots', 'Celery', 'Pepsi', 'Gatorade', 'Cheez-Its']])\n",
    "\n",
    "# Printing bag1 and bag2\n",
    "print(\"Bag 1:\", bag1)\n",
    "print(\"Bag 2:\", bag2)"
   ]
  },
  {
   "cell_type": "code",
   "execution_count": 32,
   "id": "b5e4609d-db50-41b2-bc4b-1d7437e6e403",
   "metadata": {},
   "outputs": [
    {
     "name": "stdout",
     "output_type": "stream",
     "text": [
      "The first bag contains 8 items, and the second bag contains 7 items\n"
     ]
    }
   ],
   "source": [
    "# Calculating the total number of items in each bag\n",
    "total_items_bag1 = np.size(bag1)\n",
    "total_items_bag2 = np.size(bag2)\n",
    "\n",
    "# Printing the results\n",
    "print(\"The first bag contains\", total_items_bag1, \"items, and the second bag contains\", total_items_bag2, \"items\")"
   ]
  },
  {
   "cell_type": "code",
   "execution_count": 33,
   "id": "cca010d7-5a7e-49c4-8f0f-f1ed2ebcd772",
   "metadata": {},
   "outputs": [
    {
     "name": "stdout",
     "output_type": "stream",
     "text": [
      "There are 6 vegetables, 3 fruits, 5 boxes of snacks, and 2 beverages in the two grocery bags\n"
     ]
    }
   ],
   "source": [
    "# Creating bag1 and bag2 arrays\n",
    "bag1 = np.array([2, 3, 4, 0])  # Vegetables, Fruits, Snacks, Beverages\n",
    "bag2 = np.array([4, 0, 1, 2])  # Vegetables, Fruits, Snacks, Beverages\n",
    "\n",
    "# Calculating the total number of items in each category\n",
    "total_vegetables = bag1[0] + bag2[0]\n",
    "total_fruits = bag1[1] + bag2[1]\n",
    "total_snacks = bag1[2] + bag2[2]\n",
    "total_beverages = bag1[3] + bag2[3]\n",
    "\n",
    "# Printing the results\n",
    "print(\"There are\", total_vegetables, \"vegetables,\", total_fruits, \"fruits,\", total_snacks,\n",
    "      \"boxes of snacks, and\", total_beverages, \"beverages in the two grocery bags\")"
   ]
  },
  {
   "cell_type": "markdown",
   "id": "d73a175a-e8de-4350-af05-638cca6a8974",
   "metadata": {},
   "source": [
    "# Teamwork"
   ]
  },
  {
   "cell_type": "code",
   "execution_count": 34,
   "id": "16bc275b-4abb-46c2-82a6-5314f5c82264",
   "metadata": {},
   "outputs": [
    {
     "name": "stdout",
     "output_type": "stream",
     "text": [
      "Ali's door-knocking data: [5 4 6 4 2]\n"
     ]
    }
   ],
   "source": [
    "# Creating a variable holding an array of Ali's door-knocking data\n",
    "ali_doors = np.array([5, 4, 6, 4, 2])\n",
    "\n",
    "# Printing the array\n",
    "print(\"Ali's door-knocking data:\", ali_doors)"
   ]
  },
  {
   "cell_type": "code",
   "execution_count": 36,
   "id": "9ea646c6-c419-4d2f-8a41-5a81b7bf6119",
   "metadata": {},
   "outputs": [
    {
     "name": "stdout",
     "output_type": "stream",
     "text": [
      "Ben's door-knocking data: [0 5 5 3 4]\n"
     ]
    }
   ],
   "source": [
    "# Creating a variable holding an array of Ben's door-knocking data (including Monday)\n",
    "ben_doors = np.array([0, 5, 5, 3, 4])\n",
    "\n",
    "# Printing the array\n",
    "print(\"Ben's door-knocking data:\", ben_doors)"
   ]
  },
  {
   "cell_type": "code",
   "execution_count": 37,
   "id": "f59cabd2-2f71-49b0-88d7-7e73535b0812",
   "metadata": {},
   "outputs": [
    {
     "name": "stdout",
     "output_type": "stream",
     "text": [
      "Carla's door-knocking data: [3 6 0 3 4]\n"
     ]
    }
   ],
   "source": [
    "# Creating a variable holding an array of Carla's door-knocking data (including Wednesday)\n",
    "carla_doors = np.array([3, 6, 0, 3, 4])\n",
    "\n",
    "# Printing the array\n",
    "print(\"Carla's door-knocking data:\", carla_doors)"
   ]
  },
  {
   "cell_type": "code",
   "execution_count": 38,
   "id": "1e3e4050-4254-4a2a-95eb-ddae0b0d3aed",
   "metadata": {},
   "outputs": [
    {
     "name": "stdout",
     "output_type": "stream",
     "text": [
      "[[5 4 6 4 2]\n",
      " [0 5 5 3 4]\n",
      " [3 6 0 3 4]]\n"
     ]
    }
   ],
   "source": [
    "# Creating an array containing all door-knocks for the week\n",
    "all_knocks = np.array([ali_doors, ben_doors, carla_doors])\n",
    "\n",
    "# Printing the resulting array\n",
    "print(all_knocks)"
   ]
  },
  {
   "cell_type": "code",
   "execution_count": 39,
   "id": "5fd11218-4258-402c-a2d3-ab5ce5cc1c2a",
   "metadata": {},
   "outputs": [
    {
     "name": "stdout",
     "output_type": "stream",
     "text": [
      "Total doors knocked on by each person: [21 17 16]\n",
      "Total doors knocked on by the group: 54\n"
     ]
    }
   ],
   "source": [
    "# Calculating the total number of doors knocked on by each person\n",
    "total_knocks_per_person = np.sum(all_knocks, axis=1)\n",
    "\n",
    "# Calculating the total number of doors knocked on by the group\n",
    "total_knocks_group = np.sum(all_knocks)\n",
    "\n",
    "# Printing the results\n",
    "print(\"Total doors knocked on by each person:\", total_knocks_per_person)\n",
    "print(\"Total doors knocked on by the group:\", total_knocks_group)"
   ]
  },
  {
   "cell_type": "code",
   "execution_count": 45,
   "id": "ff19c9fa-46b3-4015-8aa4-b215dcd1f417",
   "metadata": {},
   "outputs": [
    {
     "name": "stdout",
     "output_type": "stream",
     "text": [
      "Total estimated votes per day: [4.  7.5 5.5 5.  5. ]\n"
     ]
    }
   ],
   "source": [
    "# Calculate the total estimated votes per day\n",
    "total_estimated_votes_per_day = np.sum(all_knocks, axis=0) / 2\n",
    "\n",
    "# Print the results\n",
    "print(\"Total estimated votes per day:\", total_estimated_votes_per_day)"
   ]
  }
 ],
 "metadata": {
  "kernelspec": {
   "display_name": "Python 3 (ipykernel)",
   "language": "python",
   "name": "python3"
  },
  "language_info": {
   "codemirror_mode": {
    "name": "ipython",
    "version": 3
   },
   "file_extension": ".py",
   "mimetype": "text/x-python",
   "name": "python",
   "nbconvert_exporter": "python",
   "pygments_lexer": "ipython3",
   "version": "3.11.9"
  }
 },
 "nbformat": 4,
 "nbformat_minor": 5
}
