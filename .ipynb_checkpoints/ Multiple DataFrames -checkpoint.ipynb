{
 "cells": [
  {
   "cell_type": "code",
   "execution_count": 1,
   "id": "dff1833c-02f1-4d3e-9c86-4ba22dac266c",
   "metadata": {},
   "outputs": [],
   "source": [
    "import numpy as np\n",
    "import pandas as pd"
   ]
  },
  {
   "cell_type": "markdown",
   "id": "d65945f0-721e-47ca-98e4-86517c0e6057",
   "metadata": {},
   "source": [
    "#  Basic Aggregations"
   ]
  },
  {
   "cell_type": "code",
   "execution_count": 2,
   "id": "8d203ce5-6b33-4f13-83dc-a5c4eac7dea7",
   "metadata": {},
   "outputs": [
    {
     "data": {
      "text/html": [
       "<div>\n",
       "<style scoped>\n",
       "    .dataframe tbody tr th:only-of-type {\n",
       "        vertical-align: middle;\n",
       "    }\n",
       "\n",
       "    .dataframe tbody tr th {\n",
       "        vertical-align: top;\n",
       "    }\n",
       "\n",
       "    .dataframe thead th {\n",
       "        text-align: right;\n",
       "    }\n",
       "</style>\n",
       "<table border=\"1\" class=\"dataframe\">\n",
       "  <thead>\n",
       "    <tr style=\"text-align: right;\">\n",
       "      <th></th>\n",
       "      <th>Product</th>\n",
       "      <th>Region</th>\n",
       "      <th>Units_Sold</th>\n",
       "      <th>Price</th>\n",
       "    </tr>\n",
       "  </thead>\n",
       "  <tbody>\n",
       "    <tr>\n",
       "      <th>0</th>\n",
       "      <td>A</td>\n",
       "      <td>North</td>\n",
       "      <td>10</td>\n",
       "      <td>100</td>\n",
       "    </tr>\n",
       "    <tr>\n",
       "      <th>1</th>\n",
       "      <td>B</td>\n",
       "      <td>South</td>\n",
       "      <td>15</td>\n",
       "      <td>200</td>\n",
       "    </tr>\n",
       "    <tr>\n",
       "      <th>2</th>\n",
       "      <td>C</td>\n",
       "      <td>East</td>\n",
       "      <td>20</td>\n",
       "      <td>150</td>\n",
       "    </tr>\n",
       "    <tr>\n",
       "      <th>3</th>\n",
       "      <td>A</td>\n",
       "      <td>West</td>\n",
       "      <td>5</td>\n",
       "      <td>100</td>\n",
       "    </tr>\n",
       "    <tr>\n",
       "      <th>4</th>\n",
       "      <td>B</td>\n",
       "      <td>North</td>\n",
       "      <td>10</td>\n",
       "      <td>200</td>\n",
       "    </tr>\n",
       "    <tr>\n",
       "      <th>5</th>\n",
       "      <td>C</td>\n",
       "      <td>South</td>\n",
       "      <td>15</td>\n",
       "      <td>150</td>\n",
       "    </tr>\n",
       "    <tr>\n",
       "      <th>6</th>\n",
       "      <td>A</td>\n",
       "      <td>East</td>\n",
       "      <td>10</td>\n",
       "      <td>100</td>\n",
       "    </tr>\n",
       "    <tr>\n",
       "      <th>7</th>\n",
       "      <td>B</td>\n",
       "      <td>West</td>\n",
       "      <td>5</td>\n",
       "      <td>200</td>\n",
       "    </tr>\n",
       "    <tr>\n",
       "      <th>8</th>\n",
       "      <td>C</td>\n",
       "      <td>North</td>\n",
       "      <td>15</td>\n",
       "      <td>150</td>\n",
       "    </tr>\n",
       "  </tbody>\n",
       "</table>\n",
       "</div>"
      ],
      "text/plain": [
       "  Product Region  Units_Sold  Price\n",
       "0       A  North          10    100\n",
       "1       B  South          15    200\n",
       "2       C   East          20    150\n",
       "3       A   West           5    100\n",
       "4       B  North          10    200\n",
       "5       C  South          15    150\n",
       "6       A   East          10    100\n",
       "7       B   West           5    200\n",
       "8       C  North          15    150"
      ]
     },
     "execution_count": 2,
     "metadata": {},
     "output_type": "execute_result"
    }
   ],
   "source": [
    "# Creating a DataFrame with the given sales data\n",
    "data = {'Product': ['A', 'B', 'C', 'A', 'B', 'C', 'A', 'B', 'C'],\n",
    "        'Region': ['North', 'South', 'East', 'West', 'North', 'South', 'East', 'West', 'North'],\n",
    "        'Units_Sold': [10, 15, 20, 5, 10, 15, 10, 5, 15],\n",
    "        'Price': [100, 200, 150, 100, 200, 150, 100, 200, 150]}\n",
    "\n",
    "df_sales = pd.DataFrame(data)\n",
    "\n",
    "# Displaying the DataFrame\n",
    "df_sales"
   ]
  },
  {
   "cell_type": "code",
   "execution_count": 3,
   "id": "7a832461-3bbc-4a95-b675-e59f6d8c0e89",
   "metadata": {},
   "outputs": [
    {
     "data": {
      "text/html": [
       "<div>\n",
       "<style scoped>\n",
       "    .dataframe tbody tr th:only-of-type {\n",
       "        vertical-align: middle;\n",
       "    }\n",
       "\n",
       "    .dataframe tbody tr th {\n",
       "        vertical-align: top;\n",
       "    }\n",
       "\n",
       "    .dataframe thead th {\n",
       "        text-align: right;\n",
       "    }\n",
       "</style>\n",
       "<table border=\"1\" class=\"dataframe\">\n",
       "  <thead>\n",
       "    <tr style=\"text-align: right;\">\n",
       "      <th></th>\n",
       "      <th>Product</th>\n",
       "      <th>Region</th>\n",
       "      <th>Units_Sold</th>\n",
       "      <th>Price</th>\n",
       "      <th>Revenue</th>\n",
       "    </tr>\n",
       "  </thead>\n",
       "  <tbody>\n",
       "    <tr>\n",
       "      <th>0</th>\n",
       "      <td>A</td>\n",
       "      <td>North</td>\n",
       "      <td>10</td>\n",
       "      <td>100</td>\n",
       "      <td>1000</td>\n",
       "    </tr>\n",
       "    <tr>\n",
       "      <th>1</th>\n",
       "      <td>B</td>\n",
       "      <td>South</td>\n",
       "      <td>15</td>\n",
       "      <td>200</td>\n",
       "      <td>3000</td>\n",
       "    </tr>\n",
       "    <tr>\n",
       "      <th>2</th>\n",
       "      <td>C</td>\n",
       "      <td>East</td>\n",
       "      <td>20</td>\n",
       "      <td>150</td>\n",
       "      <td>3000</td>\n",
       "    </tr>\n",
       "    <tr>\n",
       "      <th>3</th>\n",
       "      <td>A</td>\n",
       "      <td>West</td>\n",
       "      <td>5</td>\n",
       "      <td>100</td>\n",
       "      <td>500</td>\n",
       "    </tr>\n",
       "    <tr>\n",
       "      <th>4</th>\n",
       "      <td>B</td>\n",
       "      <td>North</td>\n",
       "      <td>10</td>\n",
       "      <td>200</td>\n",
       "      <td>2000</td>\n",
       "    </tr>\n",
       "    <tr>\n",
       "      <th>5</th>\n",
       "      <td>C</td>\n",
       "      <td>South</td>\n",
       "      <td>15</td>\n",
       "      <td>150</td>\n",
       "      <td>2250</td>\n",
       "    </tr>\n",
       "    <tr>\n",
       "      <th>6</th>\n",
       "      <td>A</td>\n",
       "      <td>East</td>\n",
       "      <td>10</td>\n",
       "      <td>100</td>\n",
       "      <td>1000</td>\n",
       "    </tr>\n",
       "    <tr>\n",
       "      <th>7</th>\n",
       "      <td>B</td>\n",
       "      <td>West</td>\n",
       "      <td>5</td>\n",
       "      <td>200</td>\n",
       "      <td>1000</td>\n",
       "    </tr>\n",
       "    <tr>\n",
       "      <th>8</th>\n",
       "      <td>C</td>\n",
       "      <td>North</td>\n",
       "      <td>15</td>\n",
       "      <td>150</td>\n",
       "      <td>2250</td>\n",
       "    </tr>\n",
       "  </tbody>\n",
       "</table>\n",
       "</div>"
      ],
      "text/plain": [
       "  Product Region  Units_Sold  Price  Revenue\n",
       "0       A  North          10    100     1000\n",
       "1       B  South          15    200     3000\n",
       "2       C   East          20    150     3000\n",
       "3       A   West           5    100      500\n",
       "4       B  North          10    200     2000\n",
       "5       C  South          15    150     2250\n",
       "6       A   East          10    100     1000\n",
       "7       B   West           5    200     1000\n",
       "8       C  North          15    150     2250"
      ]
     },
     "execution_count": 3,
     "metadata": {},
     "output_type": "execute_result"
    }
   ],
   "source": [
    "# Calculating the 'Revenue' column\n",
    "df_sales['Revenue'] = df_sales['Units_Sold'] * df_sales['Price']\n",
    "\n",
    "# Displaying the updated DataFrame\n",
    "df_sales"
   ]
  },
  {
   "cell_type": "code",
   "execution_count": 4,
   "id": "dea9543b-9eb0-4646-b8b4-93d5399b6883",
   "metadata": {},
   "outputs": [
    {
     "name": "stdout",
     "output_type": "stream",
     "text": [
      "Total Units Sold: 105\n",
      "Total Revenue: 16000\n"
     ]
    }
   ],
   "source": [
    "# Calculating the total 'Units_Sold' and total 'Revenue'\n",
    "total_units_sold = df_sales['Units_Sold'].sum()\n",
    "total_revenue = df_sales['Revenue'].sum()\n",
    "\n",
    "# Displaying the results\n",
    "print(\"Total Units Sold:\", total_units_sold)\n",
    "print(\"Total Revenue:\", total_revenue)"
   ]
  },
  {
   "cell_type": "code",
   "execution_count": 5,
   "id": "196b0749-4875-4c17-8805-63cd15b0c32e",
   "metadata": {},
   "outputs": [
    {
     "name": "stdout",
     "output_type": "stream",
     "text": [
      "Average Units Sold: 11.666666666666666\n",
      "Average Revenue: 1777.7777777777778\n"
     ]
    }
   ],
   "source": [
    "# Calculating the average 'Units_Sold' and average 'Revenue'\n",
    "avg_units_sold = df_sales['Units_Sold'].mean()\n",
    "avg_revenue = df_sales['Revenue'].mean()\n",
    "\n",
    "# Displaying the results\n",
    "print(\"Average Units Sold:\", avg_units_sold)\n",
    "print(\"Average Revenue:\", avg_revenue)"
   ]
  },
  {
   "cell_type": "markdown",
   "id": "12570565-0c8e-40d1-bcdc-f587cc82569a",
   "metadata": {},
   "source": [
    "# Grouping Data"
   ]
  },
  {
   "cell_type": "code",
   "execution_count": 6,
   "id": "759efbba-5ed0-4344-af45-0b3cc4ffdb8c",
   "metadata": {},
   "outputs": [
    {
     "name": "stdout",
     "output_type": "stream",
     "text": [
      "         Units_Sold  Revenue\n",
      "Product                     \n",
      "A                25     2500\n",
      "B                30     6000\n",
      "C                50     7500\n"
     ]
    }
   ],
   "source": [
    "# Grouping by 'Product' and calculating the total 'Units_Sold' and 'Revenue' for each product\n",
    "product_group = df_sales.groupby('Product').agg({'Units_Sold':'sum', 'Revenue':'sum'})\n",
    "\n",
    "# Displaying the results\n",
    "print(product_group)"
   ]
  },
  {
   "cell_type": "code",
   "execution_count": 7,
   "id": "f46f007f-07b1-4ac4-b8e5-f4e1b87d2f5f",
   "metadata": {},
   "outputs": [
    {
     "name": "stdout",
     "output_type": "stream",
     "text": [
      "        Units_Sold  Revenue\n",
      "Region                     \n",
      "East     15.000000   2000.0\n",
      "North    11.666667   1750.0\n",
      "South    15.000000   2625.0\n",
      "West      5.000000    750.0\n"
     ]
    }
   ],
   "source": [
    "# Grouping by 'Region' and calculating the average 'Units_Sold' and 'Revenue' for each region\n",
    "region_group = df_sales.groupby('Region').agg({'Units_Sold':'mean', 'Revenue':'mean'})\n",
    "\n",
    "# Displaying the results\n",
    "print(region_group)"
   ]
  },
  {
   "cell_type": "code",
   "execution_count": 8,
   "id": "7310339e-91c7-463a-b38e-f962b80ac3ce",
   "metadata": {},
   "outputs": [
    {
     "name": "stdout",
     "output_type": "stream",
     "text": [
      "                Units_Sold  Revenue\n",
      "Product Region                     \n",
      "A       East            10     1000\n",
      "        North           10     1000\n",
      "        West             5      500\n",
      "B       North           10     2000\n",
      "        South           15     3000\n",
      "        West             5     1000\n",
      "C       East            20     3000\n",
      "        North           15     2250\n",
      "        South           15     2250\n"
     ]
    }
   ],
   "source": [
    "# Grouping by both 'Product' and 'Region' and calculating the sum of 'Units_Sold' and 'Revenue'\n",
    "product_region_group = df_sales.groupby(['Product', 'Region']).agg({'Units_Sold':'sum', 'Revenue':'sum'})\n",
    "\n",
    "# Displaying the results\n",
    "print(product_region_group)"
   ]
  },
  {
   "cell_type": "markdown",
   "id": "df75481a-627f-49c5-9887-04dc2b6b3913",
   "metadata": {},
   "source": [
    "# Sorting and Ranking Data"
   ]
  },
  {
   "cell_type": "code",
   "execution_count": 9,
   "id": "d78af1a8-3671-4036-bf0c-97a90e96fbcb",
   "metadata": {},
   "outputs": [
    {
     "name": "stdout",
     "output_type": "stream",
     "text": [
      "  Product Region  Units_Sold  Price  Revenue\n",
      "3       A   West           5    100      500\n",
      "7       B   West           5    200     1000\n",
      "4       B  North          10    200     2000\n",
      "0       A  North          10    100     1000\n",
      "6       A   East          10    100     1000\n",
      "1       B  South          15    200     3000\n",
      "5       C  South          15    150     2250\n",
      "8       C  North          15    150     2250\n",
      "2       C   East          20    150     3000\n"
     ]
    }
   ],
   "source": [
    "# Sorting df_sales by 'Units_Sold' in ascending order\n",
    "df_sales_sorted = df_sales.sort_values('Units_Sold', ascending=True)\n",
    "\n",
    "# Displaying the sorted DataFrame\n",
    "print(df_sales_sorted)"
   ]
  },
  {
   "cell_type": "code",
   "execution_count": 10,
   "id": "444779fc-3228-4916-a2a1-dcfd3c6d12d3",
   "metadata": {},
   "outputs": [
    {
     "name": "stdout",
     "output_type": "stream",
     "text": [
      "  Product Region  Units_Sold  Price  Revenue\n",
      "1       B  South          15    200     3000\n",
      "2       C   East          20    150     3000\n",
      "8       C  North          15    150     2250\n",
      "5       C  South          15    150     2250\n",
      "4       B  North          10    200     2000\n",
      "0       A  North          10    100     1000\n",
      "6       A   East          10    100     1000\n",
      "7       B   West           5    200     1000\n",
      "3       A   West           5    100      500\n"
     ]
    }
   ],
   "source": [
    "# Sorting df_sales by 'Revenue' in descending order\n",
    "df_sales_sorted = df_sales.sort_values('Revenue', ascending=False)\n",
    "\n",
    "# Displaying the sorted DataFrame\n",
    "print(df_sales_sorted)"
   ]
  },
  {
   "cell_type": "code",
   "execution_count": 11,
   "id": "272db660-667e-48d1-b5c4-1b986a02d178",
   "metadata": {},
   "outputs": [
    {
     "name": "stdout",
     "output_type": "stream",
     "text": [
      "  Product Region  Units_Sold  Price  Revenue  Revenue_Rank\n",
      "0       A  North          10    100     1000           7.0\n",
      "1       B  South          15    200     3000           1.5\n",
      "2       C   East          20    150     3000           1.5\n",
      "3       A   West           5    100      500           9.0\n",
      "4       B  North          10    200     2000           5.0\n",
      "5       C  South          15    150     2250           3.5\n",
      "6       A   East          10    100     1000           7.0\n",
      "7       B   West           5    200     1000           7.0\n",
      "8       C  North          15    150     2250           3.5\n"
     ]
    }
   ],
   "source": [
    "# Adding a new column 'Revenue_Rank' that ranks the 'Revenue' values in descending order\n",
    "df_sales['Revenue_Rank'] = df_sales['Revenue'].rank(ascending=False)\n",
    "\n",
    "# Displaying the updated DataFrame\n",
    "print(df_sales)"
   ]
  },
  {
   "cell_type": "code",
   "execution_count": 12,
   "id": "efd8b62f-269d-4b90-9025-0e4a2c941318",
   "metadata": {},
   "outputs": [
    {
     "data": {
      "text/html": [
       "<div>\n",
       "<style scoped>\n",
       "    .dataframe tbody tr th:only-of-type {\n",
       "        vertical-align: middle;\n",
       "    }\n",
       "\n",
       "    .dataframe tbody tr th {\n",
       "        vertical-align: top;\n",
       "    }\n",
       "\n",
       "    .dataframe thead th {\n",
       "        text-align: right;\n",
       "    }\n",
       "</style>\n",
       "<table border=\"1\" class=\"dataframe\">\n",
       "  <thead>\n",
       "    <tr style=\"text-align: right;\">\n",
       "      <th></th>\n",
       "      <th>Product</th>\n",
       "      <th>Region</th>\n",
       "      <th>Units_Sold</th>\n",
       "      <th>Price</th>\n",
       "      <th>Revenue</th>\n",
       "      <th>Revenue_Rank</th>\n",
       "    </tr>\n",
       "  </thead>\n",
       "  <tbody>\n",
       "    <tr>\n",
       "      <th>0</th>\n",
       "      <td>A</td>\n",
       "      <td>North</td>\n",
       "      <td>10</td>\n",
       "      <td>100</td>\n",
       "      <td>1000</td>\n",
       "      <td>7.0</td>\n",
       "    </tr>\n",
       "    <tr>\n",
       "      <th>1</th>\n",
       "      <td>B</td>\n",
       "      <td>South</td>\n",
       "      <td>15</td>\n",
       "      <td>200</td>\n",
       "      <td>3000</td>\n",
       "      <td>1.5</td>\n",
       "    </tr>\n",
       "    <tr>\n",
       "      <th>2</th>\n",
       "      <td>C</td>\n",
       "      <td>East</td>\n",
       "      <td>20</td>\n",
       "      <td>150</td>\n",
       "      <td>3000</td>\n",
       "      <td>1.5</td>\n",
       "    </tr>\n",
       "    <tr>\n",
       "      <th>3</th>\n",
       "      <td>A</td>\n",
       "      <td>West</td>\n",
       "      <td>5</td>\n",
       "      <td>100</td>\n",
       "      <td>500</td>\n",
       "      <td>9.0</td>\n",
       "    </tr>\n",
       "    <tr>\n",
       "      <th>4</th>\n",
       "      <td>B</td>\n",
       "      <td>North</td>\n",
       "      <td>10</td>\n",
       "      <td>200</td>\n",
       "      <td>2000</td>\n",
       "      <td>5.0</td>\n",
       "    </tr>\n",
       "    <tr>\n",
       "      <th>5</th>\n",
       "      <td>C</td>\n",
       "      <td>South</td>\n",
       "      <td>15</td>\n",
       "      <td>150</td>\n",
       "      <td>2250</td>\n",
       "      <td>3.5</td>\n",
       "    </tr>\n",
       "    <tr>\n",
       "      <th>6</th>\n",
       "      <td>A</td>\n",
       "      <td>East</td>\n",
       "      <td>10</td>\n",
       "      <td>100</td>\n",
       "      <td>1000</td>\n",
       "      <td>7.0</td>\n",
       "    </tr>\n",
       "    <tr>\n",
       "      <th>7</th>\n",
       "      <td>B</td>\n",
       "      <td>West</td>\n",
       "      <td>5</td>\n",
       "      <td>200</td>\n",
       "      <td>1000</td>\n",
       "      <td>7.0</td>\n",
       "    </tr>\n",
       "    <tr>\n",
       "      <th>8</th>\n",
       "      <td>C</td>\n",
       "      <td>North</td>\n",
       "      <td>15</td>\n",
       "      <td>150</td>\n",
       "      <td>2250</td>\n",
       "      <td>3.5</td>\n",
       "    </tr>\n",
       "  </tbody>\n",
       "</table>\n",
       "</div>"
      ],
      "text/plain": [
       "  Product Region  Units_Sold  Price  Revenue  Revenue_Rank\n",
       "0       A  North          10    100     1000           7.0\n",
       "1       B  South          15    200     3000           1.5\n",
       "2       C   East          20    150     3000           1.5\n",
       "3       A   West           5    100      500           9.0\n",
       "4       B  North          10    200     2000           5.0\n",
       "5       C  South          15    150     2250           3.5\n",
       "6       A   East          10    100     1000           7.0\n",
       "7       B   West           5    200     1000           7.0\n",
       "8       C  North          15    150     2250           3.5"
      ]
     },
     "execution_count": 12,
     "metadata": {},
     "output_type": "execute_result"
    }
   ],
   "source": [
    "df_sales"
   ]
  },
  {
   "cell_type": "markdown",
   "id": "58205fe0-d306-4140-8fe0-e49afe0d1ffe",
   "metadata": {},
   "source": [
    "#  Merging DataFrames"
   ]
  },
  {
   "cell_type": "code",
   "execution_count": 13,
   "id": "a06049a9-8147-4ee2-957f-7092bee7863b",
   "metadata": {},
   "outputs": [
    {
     "data": {
      "text/html": [
       "<div>\n",
       "<style scoped>\n",
       "    .dataframe tbody tr th:only-of-type {\n",
       "        vertical-align: middle;\n",
       "    }\n",
       "\n",
       "    .dataframe tbody tr th {\n",
       "        vertical-align: top;\n",
       "    }\n",
       "\n",
       "    .dataframe thead th {\n",
       "        text-align: right;\n",
       "    }\n",
       "</style>\n",
       "<table border=\"1\" class=\"dataframe\">\n",
       "  <thead>\n",
       "    <tr style=\"text-align: right;\">\n",
       "      <th></th>\n",
       "      <th>Product</th>\n",
       "      <th>Category</th>\n",
       "    </tr>\n",
       "  </thead>\n",
       "  <tbody>\n",
       "    <tr>\n",
       "      <th>0</th>\n",
       "      <td>A</td>\n",
       "      <td>Electronics</td>\n",
       "    </tr>\n",
       "    <tr>\n",
       "      <th>1</th>\n",
       "      <td>B</td>\n",
       "      <td>Furniture</td>\n",
       "    </tr>\n",
       "    <tr>\n",
       "      <th>2</th>\n",
       "      <td>C</td>\n",
       "      <td>Appliances</td>\n",
       "    </tr>\n",
       "  </tbody>\n",
       "</table>\n",
       "</div>"
      ],
      "text/plain": [
       "  Product     Category\n",
       "0       A  Electronics\n",
       "1       B    Furniture\n",
       "2       C   Appliances"
      ]
     },
     "execution_count": 13,
     "metadata": {},
     "output_type": "execute_result"
    }
   ],
   "source": [
    "# Creating a DataFrame with the given product data\n",
    "product_data = {'Product': ['A', 'B', 'C'],\n",
    "                'Category': ['Electronics', 'Furniture', 'Appliances']}\n",
    "\n",
    "df_products = pd.DataFrame(product_data)\n",
    "\n",
    "# Displaying the DataFrame\n",
    "df_products"
   ]
  },
  {
   "cell_type": "code",
   "execution_count": 14,
   "id": "3ee501f2-a45d-4c95-ad64-fda5d769e4a2",
   "metadata": {},
   "outputs": [
    {
     "data": {
      "text/html": [
       "<div>\n",
       "<style scoped>\n",
       "    .dataframe tbody tr th:only-of-type {\n",
       "        vertical-align: middle;\n",
       "    }\n",
       "\n",
       "    .dataframe tbody tr th {\n",
       "        vertical-align: top;\n",
       "    }\n",
       "\n",
       "    .dataframe thead th {\n",
       "        text-align: right;\n",
       "    }\n",
       "</style>\n",
       "<table border=\"1\" class=\"dataframe\">\n",
       "  <thead>\n",
       "    <tr style=\"text-align: right;\">\n",
       "      <th></th>\n",
       "      <th>Product</th>\n",
       "      <th>Region</th>\n",
       "      <th>Units_Sold</th>\n",
       "      <th>Price</th>\n",
       "      <th>Revenue</th>\n",
       "      <th>Revenue_Rank</th>\n",
       "      <th>Category</th>\n",
       "    </tr>\n",
       "  </thead>\n",
       "  <tbody>\n",
       "    <tr>\n",
       "      <th>0</th>\n",
       "      <td>A</td>\n",
       "      <td>North</td>\n",
       "      <td>10</td>\n",
       "      <td>100</td>\n",
       "      <td>1000</td>\n",
       "      <td>7.0</td>\n",
       "      <td>Electronics</td>\n",
       "    </tr>\n",
       "    <tr>\n",
       "      <th>1</th>\n",
       "      <td>B</td>\n",
       "      <td>South</td>\n",
       "      <td>15</td>\n",
       "      <td>200</td>\n",
       "      <td>3000</td>\n",
       "      <td>1.5</td>\n",
       "      <td>Furniture</td>\n",
       "    </tr>\n",
       "    <tr>\n",
       "      <th>2</th>\n",
       "      <td>C</td>\n",
       "      <td>East</td>\n",
       "      <td>20</td>\n",
       "      <td>150</td>\n",
       "      <td>3000</td>\n",
       "      <td>1.5</td>\n",
       "      <td>Appliances</td>\n",
       "    </tr>\n",
       "    <tr>\n",
       "      <th>3</th>\n",
       "      <td>A</td>\n",
       "      <td>West</td>\n",
       "      <td>5</td>\n",
       "      <td>100</td>\n",
       "      <td>500</td>\n",
       "      <td>9.0</td>\n",
       "      <td>Electronics</td>\n",
       "    </tr>\n",
       "    <tr>\n",
       "      <th>4</th>\n",
       "      <td>B</td>\n",
       "      <td>North</td>\n",
       "      <td>10</td>\n",
       "      <td>200</td>\n",
       "      <td>2000</td>\n",
       "      <td>5.0</td>\n",
       "      <td>Furniture</td>\n",
       "    </tr>\n",
       "    <tr>\n",
       "      <th>5</th>\n",
       "      <td>C</td>\n",
       "      <td>South</td>\n",
       "      <td>15</td>\n",
       "      <td>150</td>\n",
       "      <td>2250</td>\n",
       "      <td>3.5</td>\n",
       "      <td>Appliances</td>\n",
       "    </tr>\n",
       "    <tr>\n",
       "      <th>6</th>\n",
       "      <td>A</td>\n",
       "      <td>East</td>\n",
       "      <td>10</td>\n",
       "      <td>100</td>\n",
       "      <td>1000</td>\n",
       "      <td>7.0</td>\n",
       "      <td>Electronics</td>\n",
       "    </tr>\n",
       "    <tr>\n",
       "      <th>7</th>\n",
       "      <td>B</td>\n",
       "      <td>West</td>\n",
       "      <td>5</td>\n",
       "      <td>200</td>\n",
       "      <td>1000</td>\n",
       "      <td>7.0</td>\n",
       "      <td>Furniture</td>\n",
       "    </tr>\n",
       "    <tr>\n",
       "      <th>8</th>\n",
       "      <td>C</td>\n",
       "      <td>North</td>\n",
       "      <td>15</td>\n",
       "      <td>150</td>\n",
       "      <td>2250</td>\n",
       "      <td>3.5</td>\n",
       "      <td>Appliances</td>\n",
       "    </tr>\n",
       "  </tbody>\n",
       "</table>\n",
       "</div>"
      ],
      "text/plain": [
       "  Product Region  Units_Sold  Price  Revenue  Revenue_Rank     Category\n",
       "0       A  North          10    100     1000           7.0  Electronics\n",
       "1       B  South          15    200     3000           1.5    Furniture\n",
       "2       C   East          20    150     3000           1.5   Appliances\n",
       "3       A   West           5    100      500           9.0  Electronics\n",
       "4       B  North          10    200     2000           5.0    Furniture\n",
       "5       C  South          15    150     2250           3.5   Appliances\n",
       "6       A   East          10    100     1000           7.0  Electronics\n",
       "7       B   West           5    200     1000           7.0    Furniture\n",
       "8       C  North          15    150     2250           3.5   Appliances"
      ]
     },
     "execution_count": 14,
     "metadata": {},
     "output_type": "execute_result"
    }
   ],
   "source": [
    "# Merging df_sales with df_products on the 'Product' column\n",
    "df_merged = pd.merge(df_sales, df_products, on='Product')\n",
    "\n",
    "# Displaying the merged DataFrame\n",
    "df_merged"
   ]
  },
  {
   "cell_type": "code",
   "execution_count": 15,
   "id": "daa4bf39-2cdb-43b5-945f-a732414048b8",
   "metadata": {},
   "outputs": [
    {
     "name": "stdout",
     "output_type": "stream",
     "text": [
      "Category\n",
      "Appliances     7500\n",
      "Electronics    2500\n",
      "Furniture      6000\n",
      "Name: Revenue, dtype: int64\n"
     ]
    }
   ],
   "source": [
    "# Calculate the total 'Revenue' by 'Category'\n",
    "revenue_by_category = df_merged.groupby('Category')['Revenue'].sum()\n",
    "\n",
    "# Display the results\n",
    "print(revenue_by_category)"
   ]
  }
 ],
 "metadata": {
  "kernelspec": {
   "display_name": "Python 3 (ipykernel)",
   "language": "python",
   "name": "python3"
  },
  "language_info": {
   "codemirror_mode": {
    "name": "ipython",
    "version": 3
   },
   "file_extension": ".py",
   "mimetype": "text/x-python",
   "name": "python",
   "nbconvert_exporter": "python",
   "pygments_lexer": "ipython3",
   "version": "3.11.9"
  }
 },
 "nbformat": 4,
 "nbformat_minor": 5
}
