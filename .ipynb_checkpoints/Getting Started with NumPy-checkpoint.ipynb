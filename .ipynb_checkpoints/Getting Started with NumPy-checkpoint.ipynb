{
 "cells": [
  {
   "cell_type": "code",
   "execution_count": 1,
   "id": "75f7ec14-cf3e-4c6a-89c7-67684c9bd1c8",
   "metadata": {},
   "outputs": [],
   "source": [
    "import numpy as np"
   ]
  },
  {
   "cell_type": "markdown",
   "id": "24078d00-dbd1-4bfe-9942-2a1102f83107",
   "metadata": {},
   "source": [
    " # Array Basics"
   ]
  },
  {
   "cell_type": "code",
   "execution_count": 5,
   "id": "f2f82005-9004-45d8-a51e-bd1ecf8c1fa0",
   "metadata": {},
   "outputs": [],
   "source": [
    "fruits = ['apple', 'banana', 'cherry', 'date'] \n",
    "#This creates a regular Python list called fruits"
   ]
  },
  {
   "cell_type": "code",
   "execution_count": 4,
   "id": "4c3ac059-7824-4d32-9879-ab3c3ca47521",
   "metadata": {},
   "outputs": [
    {
     "name": "stdout",
     "output_type": "stream",
     "text": [
      "['apple' 'banana' 'cherry' 'date']\n"
     ]
    }
   ],
   "source": [
    "arr_1 = np.array(fruits)\n",
    "print(arr_1)\n",
    "#Here, i used np.array() to convert my fruits list into a NumPy array named arr_1"
   ]
  },
  {
   "cell_type": "code",
   "execution_count": 6,
   "id": "486075f4-2b95-468b-87b7-aa7aeb5477a0",
   "metadata": {},
   "outputs": [
    {
     "data": {
      "text/plain": [
       "numpy.str_"
      ]
     },
     "execution_count": 6,
     "metadata": {},
     "output_type": "execute_result"
    }
   ],
   "source": [
    "type(arr_1[0])  # This will return <class 'numpy.str_'>\n",
    "#I used type() to check the data type of the elements within arr_1. The output <class 'numpy.str_'> tells me that the elements are strings. In numpy.str_, the str part means it's a string type. "
   ]
  },
  {
   "cell_type": "code",
   "execution_count": 7,
   "id": "6babda3e-4833-4afb-b3da-d88bdf9c291c",
   "metadata": {},
   "outputs": [
    {
     "name": "stdout",
     "output_type": "stream",
     "text": [
      "[[10 11 12]\n",
      " [13 14 15]]\n"
     ]
    }
   ],
   "source": [
    "arr_2 = np.array([[10, 11, 12], [13, 14, 15]])\n",
    "print(arr_2)\n",
    "#This creates a two-dimensional array (a matrix) named arr_2"
   ]
  },
  {
   "cell_type": "code",
   "execution_count": 8,
   "id": "aecade1b-42f5-4083-b392-91ba79aa9c40",
   "metadata": {},
   "outputs": [
    {
     "name": "stdout",
     "output_type": "stream",
     "text": [
      "[[10 13]\n",
      " [11 14]\n",
      " [12 15]]\n"
     ]
    }
   ],
   "source": [
    "print(arr_2.transpose())  # Or arr_2.T\n",
    "#I used the .transpose() attribute (or .T for short) to get the transpose of arr_2. This swaps the rows and columns. The original arr_2 remains unchanged; .transpose() gives me a transposed view."
   ]
  },
  {
   "cell_type": "code",
   "execution_count": 9,
   "id": "604929bc-0450-4ae8-a1a2-28b605f663e4",
   "metadata": {},
   "outputs": [
    {
     "name": "stdout",
     "output_type": "stream",
     "text": [
      "[[1 3 5]\n",
      " [2 4 6]]\n"
     ]
    }
   ],
   "source": [
    "arr_3 = np.array([[1, 3, 5], [2, 4, 6]])\n",
    "print(arr_3)\n",
    "#This creates another two-dimensional array named arr_3"
   ]
  },
  {
   "cell_type": "code",
   "execution_count": 10,
   "id": "f0307f87-1ab8-4033-af2f-fa1f72940eab",
   "metadata": {},
   "outputs": [
    {
     "name": "stdout",
     "output_type": "stream",
     "text": [
      "[5 4]\n"
     ]
    }
   ],
   "source": [
    "arr_4 = np.array([arr_3[0, 2], arr_3[1, 1]])  # Accessing elements at [0,2] and [1,1]\n",
    "print(arr_4)\n",
    "#use slicing to pick specific elements from arr_3. arr_3[0, 2] gets the element in the first row (index 0) and third column (index 2). arr_3[1, 1] gets the element in the second row (index 1) and second column (index 1)"
   ]
  },
  {
   "cell_type": "code",
   "execution_count": 2,
   "id": "601c4bd8-6094-40cc-b081-a926257263ee",
   "metadata": {},
   "outputs": [
    {
     "name": "stdout",
     "output_type": "stream",
     "text": [
      "[[[1. 1.]\n",
      "  [1. 1.]]\n",
      "\n",
      " [[1. 1.]\n",
      "  [1. 1.]]]\n"
     ]
    }
   ],
   "source": [
    "arr_5 = np.ones((2, 2, 2))  # Creating a 3D array of ones\n",
    "print(arr_5)\n",
    "#This creates a three-dimensional array filled with ones. The (2, 2, 2)  argument specifies the dimensions."
   ]
  },
  {
   "cell_type": "code",
   "execution_count": null,
   "id": "bd897abd-b443-4f4e-8e0d-db32266b789b",
   "metadata": {},
   "outputs": [],
   "source": []
  }
 ],
 "metadata": {
  "kernelspec": {
   "display_name": "Python 3 (ipykernel)",
   "language": "python",
   "name": "python3"
  },
  "language_info": {
   "codemirror_mode": {
    "name": "ipython",
    "version": 3
   },
   "file_extension": ".py",
   "mimetype": "text/x-python",
   "name": "python",
   "nbconvert_exporter": "python",
   "pygments_lexer": "ipython3",
   "version": "3.11.9"
  }
 },
 "nbformat": 4,
 "nbformat_minor": 5
}
