{
 "cells": [
  {
   "cell_type": "code",
   "execution_count": null,
   "id": "ccfc5eff-7247-4a39-b325-e6c54e273f78",
   "metadata": {},
   "outputs": [],
   "source": []
  }
 ],
 "metadata": {
  "kernelspec": {
   "display_name": "",
   "name": ""
  },
  "language_info": {
   "name": ""
  }
 },
 "nbformat": 4,
 "nbformat_minor": 5
}
