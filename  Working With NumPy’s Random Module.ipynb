{
 "cells": [
  {
   "cell_type": "code",
   "execution_count": 1,
   "id": "85240d2b-a16e-484d-b7cf-45aefc537db5",
   "metadata": {},
   "outputs": [],
   "source": [
    "import numpy as np"
   ]
  },
  {
   "cell_type": "markdown",
   "id": "16ee0b73-f809-4a1d-b1cb-ac90b929d52b",
   "metadata": {},
   "source": [
    "# Generating Random Numbers"
   ]
  },
  {
   "cell_type": "code",
   "execution_count": 2,
   "id": "5461be2f-67c4-4ec9-98ae-7164e70bab42",
   "metadata": {},
   "outputs": [
    {
     "name": "stdout",
     "output_type": "stream",
     "text": [
      "[14 20]\n"
     ]
    }
   ],
   "source": [
    "r_1 = np.random.randint(1, 21, size=2)  # Generate 2 random integers between 1 and 20 (inclusive)\n",
    "print(r_1)  # Print the generated random numbers"
   ]
  },
  {
   "cell_type": "code",
   "execution_count": 3,
   "id": "b95246e9-ef44-45a6-be01-6971f63a516b",
   "metadata": {},
   "outputs": [
    {
     "name": "stdout",
     "output_type": "stream",
     "text": [
      "[[ 5 19]]\n"
     ]
    }
   ],
   "source": [
    "r_2 = np.random.randint(1, 21, size=(1, 2))  # Generate a 1x2 array of random integers between 1 and 20\n",
    "print(r_2)  # Print the generated 1x2 array"
   ]
  },
  {
   "cell_type": "code",
   "execution_count": 4,
   "id": "3fc6a7b8-e439-41db-80a1-8c20d8dab25e",
   "metadata": {},
   "outputs": [
    {
     "name": "stdout",
     "output_type": "stream",
     "text": [
      "[[0.37682556]\n",
      " [0.82209727]]\n"
     ]
    }
   ],
   "source": [
    "# Generate a 2x1 array of random floats between 0 and 1\n",
    "r_3 = np.random.rand(2, 1) \n",
    "\n",
    "# Print the array\n",
    "print(r_3)"
   ]
  },
  {
   "cell_type": "code",
   "execution_count": 5,
   "id": "40898cd6-2b90-4dda-992d-8d3f58ea9ae8",
   "metadata": {},
   "outputs": [
    {
     "name": "stdout",
     "output_type": "stream",
     "text": [
      "[[61 52 78 87 89]\n",
      " [69 94 40 68 36]\n",
      " [84 58 44 53 85]\n",
      " [59 52 63 40 50]]\n"
     ]
    }
   ],
   "source": [
    "# Generate a 4x5 array of random integers between 20 and 100\n",
    "r_4 = np.random.randint(20, 101, size=(4, 5))\n",
    "\n",
    "# Print the array\n",
    "print(r_4)"
   ]
  },
  {
   "cell_type": "code",
   "execution_count": 6,
   "id": "aa300351-93ff-4ab5-89bc-6820005a6132",
   "metadata": {},
   "outputs": [
    {
     "name": "stdout",
     "output_type": "stream",
     "text": [
      "[[0.21617369 0.11865142 0.0095078  0.34711978 0.23002919]\n",
      " [0.83436203 0.47617116 0.36047779 0.52687415 0.11632403]\n",
      " [0.20728838 0.20440603 0.72303685 0.79791075 0.37997224]\n",
      " [0.27767868 0.39631545 0.95353515 0.78432455 0.54945488]]\n"
     ]
    }
   ],
   "source": [
    "# Generate a 4x5 array of random floats between 0 and 1\n",
    "r_5 = np.random.rand(4, 5)\n",
    "\n",
    "# Print the array\n",
    "print(r_5)"
   ]
  },
  {
   "cell_type": "markdown",
   "id": "394cab8d-a5ea-4b12-b9f5-4201ca1f8892",
   "metadata": {},
   "source": [
    "# Generating Random Choices from an Array"
   ]
  },
  {
   "cell_type": "code",
   "execution_count": 7,
   "id": "c73bc8d4-7eb6-4c2f-b45a-fc85ecbc392a",
   "metadata": {},
   "outputs": [
    {
     "name": "stdout",
     "output_type": "stream",
     "text": [
      "['Craig' 'Vanessa' 'Fadil' 'Symone' 'Aron' 'Anthony' 'Hassan' 'Zanib'\n",
      " 'Armando' 'Jacob' 'Caitlian' 'Kaylin']\n"
     ]
    }
   ],
   "source": [
    "# Create a 1-D array of student names\n",
    "students = np.array(['Craig', 'Vanessa', 'Fadil', 'Symone', 'Aron', 'Anthony', \n",
    "                    'Hassan', 'Zanib', 'Armando', 'Jacob', 'Caitlian', 'Kaylin'])\n",
    "\n",
    "# Print the array\n",
    "print(students)"
   ]
  },
  {
   "cell_type": "code",
   "execution_count": 8,
   "id": "abfcc897-6461-47e0-98bf-bc1c9ecf6914",
   "metadata": {},
   "outputs": [
    {
     "name": "stdout",
     "output_type": "stream",
     "text": [
      "Hassan\n"
     ]
    }
   ],
   "source": [
    "# Choose a random student from the array\n",
    "call_on = np.random.choice(students)\n",
    "\n",
    "# Print the randomly selected student\n",
    "print(call_on)"
   ]
  },
  {
   "cell_type": "code",
   "execution_count": 9,
   "id": "610f5df2-8441-4947-a700-585a6195254b",
   "metadata": {},
   "outputs": [
    {
     "name": "stdout",
     "output_type": "stream",
     "text": [
      "[['Fadil' 'Zanib' 'Aron' 'Anthony']\n",
      " ['Symone' 'Caitlian' 'Zanib' 'Armando']\n",
      " ['Fadil' 'Armando' 'Aron' 'Symone']]\n"
     ]
    }
   ],
   "source": [
    "#Choose a random sample of students for breakout groups\n",
    "breakout_groups = np.random.choice(students, size=(3, 4))\n",
    "\n",
    "# Print the breakout groups\n",
    "print(breakout_groups)\n",
    "\n",
    "# This might not be the most effective way to assign breakout groups because there's a chance the same student could be assigned to multiple groups.\n",
    "# np.random.choice samples with replacement by default."
   ]
  },
  {
   "cell_type": "code",
   "execution_count": 10,
   "id": "f52a607a-0cc0-4f18-b948-ad264330956d",
   "metadata": {},
   "outputs": [
    {
     "name": "stdout",
     "output_type": "stream",
     "text": [
      "['Symone' 'Anthony' 'Symone' 'Symone' 'Symone']\n"
     ]
    }
   ],
   "source": [
    "# Assign probabilities to each student\n",
    "p = [0.05, 0.1, 0, 0.3, 0.05, 0.1, 0.05, 0.05, 0.1, 0.05, 0.05, 0.10]  \n",
    "\n",
    "# Craig: 5%\n",
    "# Vanessa: 10%\n",
    "# Fadil: 0% (no chance of being called on)\n",
    "# Symone: 30% (highest chance)\n",
    "# Aron: 5%\n",
    "# Anthony: 10%\n",
    "# Hassan: 5%\n",
    "# Zanib: 5%\n",
    "# Armando: 10%\n",
    "# Jacob: 5%\n",
    "# Caitlian: 5%\n",
    "# Kaylin: 10% \n",
    "\n",
    "\n",
    "# Make 5 weighted random selections from students\n",
    "call_on_weighted = np.random.choice(students, size=5, p=p)\n",
    "\n",
    "# Print the weighted random selections\n",
    "print(call_on_weighted)"
   ]
  },
  {
   "cell_type": "markdown",
   "id": "eaf1405a-5238-4961-8f0b-dafc55266b96",
   "metadata": {},
   "source": [
    "# Generating a Normal Distribution"
   ]
  },
  {
   "cell_type": "code",
   "execution_count": 11,
   "id": "b81200ae-8acb-4bbc-a066-a1ffaffed69b",
   "metadata": {},
   "outputs": [
    {
     "name": "stdout",
     "output_type": "stream",
     "text": [
      "[[ 3.60184621 12.62993408  9.34451556  7.29559248  6.52517282]\n",
      " [ 9.07652363 13.58735958 10.2437988  12.94106418 16.03570767]\n",
      " [ 7.2233964  13.64769889  0.3658602  13.20707602 18.80593631]\n",
      " [12.33869468  4.85724325  7.59467774  8.26413743 13.21976241]]\n"
     ]
    }
   ],
   "source": [
    "# Generate the random distribution\n",
    "bell_curve = np.random.normal(loc=10, scale=5, size=(4, 5))\n",
    "\n",
    "# Print the result\n",
    "print(bell_curve)"
   ]
  },
  {
   "cell_type": "code",
   "execution_count": null,
   "id": "cd3cd978-9ce4-4e12-a80e-809909f3ffc1",
   "metadata": {},
   "outputs": [],
   "source": []
  }
 ],
 "metadata": {
  "kernelspec": {
   "display_name": "Python 3 (ipykernel)",
   "language": "python",
   "name": "python3"
  },
  "language_info": {
   "codemirror_mode": {
    "name": "ipython",
    "version": 3
   },
   "file_extension": ".py",
   "mimetype": "text/x-python",
   "name": "python",
   "nbconvert_exporter": "python",
   "pygments_lexer": "ipython3",
   "version": "3.11.9"
  }
 },
 "nbformat": 4,
 "nbformat_minor": 5
}
