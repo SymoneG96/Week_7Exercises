{
 "cells": [
  {
   "cell_type": "code",
   "execution_count": 1,
   "id": "29b4ab90-6e99-4e56-a6eb-6f4600fd9073",
   "metadata": {},
   "outputs": [],
   "source": [
    "import numpy as np"
   ]
  },
  {
   "cell_type": "markdown",
   "id": "92ebace0-7797-4a81-bc76-236c60d3a127",
   "metadata": {},
   "source": [
    "# Looping Through Arrays"
   ]
  },
  {
   "cell_type": "code",
   "execution_count": 2,
   "id": "1bac517e-ff11-4974-81b5-9c47696608b8",
   "metadata": {},
   "outputs": [
    {
     "name": "stdout",
     "output_type": "stream",
     "text": [
      "[[11 12 13]\n",
      " [14 15 16]]\n"
     ]
    }
   ],
   "source": [
    "# Create a two-dimensional array named arrA.\n",
    "arrA = np.array([[11, 12, 13], [14, 15, 16]]) \n",
    "print(arrA)  # Print the array"
   ]
  },
  {
   "cell_type": "code",
   "execution_count": 3,
   "id": "7dcf2a53-8fbc-43fb-8470-362b18a52915",
   "metadata": {},
   "outputs": [
    {
     "name": "stdout",
     "output_type": "stream",
     "text": [
      "[22 24 26]\n",
      "[28 30 32]\n"
     ]
    }
   ],
   "source": [
    "# Loop through the first dimension of arrA and print each element multiplied by 2.\n",
    "for x in arrA:  # Each 'x' represents a row in the array\n",
    "  print(x * 2)  # Multiply each row by 2 and print the result"
   ]
  },
  {
   "cell_type": "code",
   "execution_count": 4,
   "id": "64fc4f0b-608e-48c2-875a-6d2b1d8758ca",
   "metadata": {},
   "outputs": [
    {
     "name": "stdout",
     "output_type": "stream",
     "text": [
      "22\n",
      "24\n",
      "26\n",
      "28\n",
      "30\n",
      "32\n"
     ]
    }
   ],
   "source": [
    "# Loop through the second dimension of arrA and print each element multiplied by 2.\n",
    "for x in arrA:  # Each 'x' represents a row in the array\n",
    "  for y in x:  # Each 'y' represents an element within the row\n",
    "    print(y * 2)  # Multiply each element by 2 and print the result"
   ]
  },
  {
   "cell_type": "markdown",
   "id": "d8a3b6ec-ddfd-4469-8448-388b742cf549",
   "metadata": {},
   "source": [
    "## The first loop goes through each row of the array as if it's one item. The second loop looks at each number in the array individually."
   ]
  },
  {
   "cell_type": "code",
   "execution_count": 5,
   "id": "f492ef0e-99d3-4955-b5d9-c09649b4211d",
   "metadata": {},
   "outputs": [
    {
     "name": "stdout",
     "output_type": "stream",
     "text": [
      "[22 24 26]\n",
      "[22 24 26]\n",
      "[22 24 26]\n",
      "[28 30 32]\n",
      "[28 30 32]\n",
      "[28 30 32]\n"
     ]
    }
   ],
   "source": [
    "for x in arrA:\n",
    "  for y in x:\n",
    "    loop_result = x * 2\n",
    "    print(loop_result)\n",
    "\n",
    "# This code iterates through each number in arrA and multiplies it by 2.\n",
    "# The result is different from the previous code because it performs a calculation on each number, rather than simply printing the number itself.\n",
    "# In this case, the result is a series of individual numbers, each doubled. This is different from the previous code, where the result was a series of arrays, each with its elements doubled."
   ]
  },
  {
   "cell_type": "markdown",
   "id": "a2f895b7-72a9-49b5-bb34-aec26ee2b1ba",
   "metadata": {},
   "source": [
    "# Joining and Stacking Arrays"
   ]
  },
  {
   "cell_type": "code",
   "execution_count": 6,
   "id": "898b969f-0ed2-472e-b14d-6c54074dd1a7",
   "metadata": {},
   "outputs": [
    {
     "name": "stdout",
     "output_type": "stream",
     "text": [
      "[[11 12 13]\n",
      " [14 15 16]\n",
      " [11 12 13]\n",
      " [14 15 16]]\n"
     ]
    }
   ],
   "source": [
    "# Create joined_array_1 by concatenating arrA with itself on axis=0 (the default axis)\n",
    "joined_array_1 = np.concatenate((arrA, arrA), axis=0)  # Join the arrays vertically\n",
    "print(joined_array_1)\n"
   ]
  },
  {
   "cell_type": "code",
   "execution_count": 7,
   "id": "7ca77c09-929d-402e-91dc-d0bf04602764",
   "metadata": {},
   "outputs": [
    {
     "name": "stdout",
     "output_type": "stream",
     "text": [
      "[[11 12 13 11 12 13]\n",
      " [14 15 16 14 15 16]]\n"
     ]
    }
   ],
   "source": [
    "# Create joined_array_2 by concatenating arrA with itself on axis=1\n",
    "joined_array_2 = np.concatenate((arrA, arrA), axis=1)  # Join the arrays horizontally\n",
    "print(joined_array_2)"
   ]
  },
  {
   "cell_type": "code",
   "execution_count": 8,
   "id": "cc71d53d-27ca-47a1-83f0-faf6a9c1529e",
   "metadata": {},
   "outputs": [
    {
     "name": "stdout",
     "output_type": "stream",
     "text": [
      "[[[11 12 13]\n",
      "  [14 15 16]\n",
      "  [11 12 13]\n",
      "  [14 15 16]]\n",
      "\n",
      " [[11 12 13]\n",
      "  [14 15 16]\n",
      "  [11 12 13]\n",
      "  [14 15 16]]]\n"
     ]
    }
   ],
   "source": [
    "# Create stacked_array_1 by stacking joined_array_1 with itself\n",
    "stacked_array_1 = np.stack((joined_array_1, joined_array_1))  # Stack the arrays on a new axis\n",
    "print(stacked_array_1)"
   ]
  },
  {
   "cell_type": "code",
   "execution_count": 9,
   "id": "d3de2f60-f285-4567-a039-b4faa56d7f70",
   "metadata": {},
   "outputs": [
    {
     "ename": "ValueError",
     "evalue": "all input arrays must have the same shape",
     "output_type": "error",
     "traceback": [
      "\u001b[1;31m---------------------------------------------------------------------------\u001b[0m",
      "\u001b[1;31mValueError\u001b[0m                                Traceback (most recent call last)",
      "Cell \u001b[1;32mIn[9], line 3\u001b[0m\n\u001b[0;32m      1\u001b[0m \u001b[38;5;66;03m# Trying to stack arrays with different shapes will cause an error!\u001b[39;00m\n\u001b[1;32m----> 3\u001b[0m stacked_array_2 \u001b[38;5;241m=\u001b[39m \u001b[43mnp\u001b[49m\u001b[38;5;241;43m.\u001b[39;49m\u001b[43mstack\u001b[49m\u001b[43m(\u001b[49m\u001b[43m(\u001b[49m\u001b[43mjoined_array_1\u001b[49m\u001b[43m,\u001b[49m\u001b[43m \u001b[49m\u001b[43mjoined_array_2\u001b[49m\u001b[43m)\u001b[49m\u001b[43m)\u001b[49m \n\u001b[0;32m      5\u001b[0m \u001b[38;5;66;03m#ValueError: all input arrays must have the same shape\u001b[39;00m\n\u001b[0;32m      6\u001b[0m \n\u001b[0;32m      7\u001b[0m \u001b[38;5;66;03m# This means I can't stack joined_array_1 and joined_array_2 because they have different numbers of rows and columns.\u001b[39;00m\n",
      "File \u001b[1;32m~\\AppData\\Local\\Packages\\PythonSoftwareFoundation.Python.3.11_qbz5n2kfra8p0\\LocalCache\\local-packages\\Python311\\site-packages\\numpy\\_core\\shape_base.py:457\u001b[0m, in \u001b[0;36mstack\u001b[1;34m(arrays, axis, out, dtype, casting)\u001b[0m\n\u001b[0;32m    455\u001b[0m shapes \u001b[38;5;241m=\u001b[39m {arr\u001b[38;5;241m.\u001b[39mshape \u001b[38;5;28;01mfor\u001b[39;00m arr \u001b[38;5;129;01min\u001b[39;00m arrays}\n\u001b[0;32m    456\u001b[0m \u001b[38;5;28;01mif\u001b[39;00m \u001b[38;5;28mlen\u001b[39m(shapes) \u001b[38;5;241m!=\u001b[39m \u001b[38;5;241m1\u001b[39m:\n\u001b[1;32m--> 457\u001b[0m     \u001b[38;5;28;01mraise\u001b[39;00m \u001b[38;5;167;01mValueError\u001b[39;00m(\u001b[38;5;124m'\u001b[39m\u001b[38;5;124mall input arrays must have the same shape\u001b[39m\u001b[38;5;124m'\u001b[39m)\n\u001b[0;32m    459\u001b[0m result_ndim \u001b[38;5;241m=\u001b[39m arrays[\u001b[38;5;241m0\u001b[39m]\u001b[38;5;241m.\u001b[39mndim \u001b[38;5;241m+\u001b[39m \u001b[38;5;241m1\u001b[39m\n\u001b[0;32m    460\u001b[0m axis \u001b[38;5;241m=\u001b[39m normalize_axis_index(axis, result_ndim)\n",
      "\u001b[1;31mValueError\u001b[0m: all input arrays must have the same shape"
     ]
    }
   ],
   "source": [
    "# Trying to stack arrays with different shapes will cause an error!\n",
    "\n",
    "stacked_array_2 = np.stack((joined_array_1, joined_array_2)) \n",
    "\n",
    "#ValueError: all input arrays must have the same shape\n",
    "\n",
    "# This means I can't stack joined_array_1 and joined_array_2 because they have different numbers of rows and columns."
   ]
  },
  {
   "cell_type": "code",
   "execution_count": null,
   "id": "48ffd15d-bdae-4242-9d28-655bcc02a498",
   "metadata": {},
   "outputs": [],
   "source": [
    "# Join joined_array_1 and arrA vertically\n",
    "another_joined_array = np.concatenate((joined_array_1, arrA))\n",
    "print(another_joined_array) "
   ]
  },
  {
   "cell_type": "code",
   "execution_count": null,
   "id": "57d6c9fc-f807-49a3-a85e-9b12c667a754",
   "metadata": {},
   "outputs": [],
   "source": [
    "# Trying to join arrays horizontally with different numbers of rows will cause an error!\n",
    "another_2 = np.concatenate((joined_array_1, arrA), axis=1) \n",
    "# ValueError: all the input array dimensions except for the concatenation axis must match exactly, but along dimension 0, the array at index 0 has size 4 and the array at index 1 has size 2\n",
    "# The error message basically means the arrays can't be joined sideways because they have different heights (number of rows)."
   ]
  },
  {
   "cell_type": "code",
   "execution_count": null,
   "id": "b7642b70-51c4-4919-be13-be73cf8f0b10",
   "metadata": {},
   "outputs": [],
   "source": [
    "# Stack arrA with itself side-by-side (horizontally)\n",
    "stacked_horizontal = np.hstack((arrA, arrA))  \n",
    "print(stacked_horizontal)\n",
    "\n",
    "# Stack arrA with itself on top of each other (vertically)\n",
    "stacked_vertical = np.vstack((arrA, arrA))  \n",
    "print(stacked_vertical)\n",
    "\n",
    "# Stack arrA with itself to create a 3D array (depth-wise)\n",
    "stacked_depth = np.dstack((arrA, arrA))  \n",
    "print(stacked_depth)"
   ]
  },
  {
   "cell_type": "markdown",
   "id": "4ad6ad16-a14d-4b94-b242-92e721b57fab",
   "metadata": {},
   "source": [
    "# Splitting Arrays"
   ]
  },
  {
   "cell_type": "code",
   "execution_count": null,
   "id": "db17a545-e153-4740-b387-4b34ddfbac0e",
   "metadata": {},
   "outputs": [],
   "source": [
    "# Split joined_array_1 into 2 arrays\n",
    "splitsky = np.split(joined_array_1, 2)\n",
    "print(splitsky)\n",
    "\n",
    "# The result is a list containing 2 arrays. Each array is 2-dimensional and has the same number of columns as joined_array_1, but half the number of rows."
   ]
  },
  {
   "cell_type": "code",
   "execution_count": null,
   "id": "7e47d2be-c852-4b8e-91cc-1e889adfb947",
   "metadata": {},
   "outputs": [],
   "source": [
    "# Split joined_array_1 into 3 arrays\n",
    "spliterino = np.split(joined_array_1, 3)\n",
    "print(spliterino)\n",
    "\n",
    "# The result is a list containing 3 arrays.\n",
    "# The first 2 arrays have 1 row and the same number of columns as joined_array_1.The last array has 2 rows and the same number of columns as joined_array_1.\n",
    "# All 3 arrays are 2-dimensional. Recieved this error code: array split does not result in an equal division"
   ]
  },
  {
   "cell_type": "markdown",
   "id": "cb53625f-a1c6-4d96-a5dc-475a52fa4faf",
   "metadata": {},
   "source": [
    "# Searching and Replacing Array Values"
   ]
  },
  {
   "cell_type": "code",
   "execution_count": null,
   "id": "754c62cb-a18b-4e94-8a97-c2563de499d6",
   "metadata": {},
   "outputs": [],
   "source": [
    "# Use np.where() to find even numbers in arrA\n",
    "result_1 = np.where(arrA % 2 == 0, arrA, 'odd')\n",
    "print(result_1)"
   ]
  },
  {
   "cell_type": "markdown",
   "id": "2475fb56-9282-4b23-b62e-07bb805d6214",
   "metadata": {},
   "source": [
    "# Sorting and Filtering Arrays"
   ]
  },
  {
   "cell_type": "code",
   "execution_count": null,
   "id": "e5964c2f-2e8f-47e5-9db3-85f89822c277",
   "metadata": {},
   "outputs": [],
   "source": [
    "# Create a 2D array arrB\n",
    "arrB = np.array([[7, 6], [13, 5], [7, 3]])\n",
    "\n",
    "# Sort arrB and store the result in arrB_sorted\n",
    "arrB_sorted = np.sort(arrB)\n",
    "print(arrB_sorted)"
   ]
  },
  {
   "cell_type": "code",
   "execution_count": null,
   "id": "b1cbe4f2-2a30-406e-a309-796adeb27920",
   "metadata": {},
   "outputs": [],
   "source": [
    "# Print the original arrB\n",
    "print(arrB)\n",
    "\n",
    "# Create a boolean array z where elements of arrB are less than 7\n",
    "z = arrB < 7\n",
    "\n",
    "# Filter arrB using the boolean array z\n",
    "arrC = arrB[z]\n",
    "print(arrC)"
   ]
  },
  {
   "cell_type": "code",
   "execution_count": null,
   "id": "7977ef31-46aa-494c-b43e-d3b6e3ee8cf1",
   "metadata": {},
   "outputs": [],
   "source": [
    "# Print the original arrB\n",
    "print(arrB)\n",
    "\n",
    "# Create a boolean array y where elements of arrB are greater than or equal to 7\n",
    "y = arrB >= 7\n",
    "\n",
    "# Filter arrB using the boolean array y\n",
    "arrD = arrB[y]\n",
    "print(arrD)"
   ]
  }
 ],
 "metadata": {
  "kernelspec": {
   "display_name": "Python 3 (ipykernel)",
   "language": "python",
   "name": "python3"
  },
  "language_info": {
   "codemirror_mode": {
    "name": "ipython",
    "version": 3
   },
   "file_extension": ".py",
   "mimetype": "text/x-python",
   "name": "python",
   "nbconvert_exporter": "python",
   "pygments_lexer": "ipython3",
   "version": "3.11.9"
  }
 },
 "nbformat": 4,
 "nbformat_minor": 5
}
